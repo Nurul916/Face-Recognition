{
 "cells": [
  {
   "cell_type": "code",
   "execution_count": 35,
   "id": "51579d30",
   "metadata": {},
   "outputs": [
    {
     "name": "stdout",
     "output_type": "stream",
     "text": [
      "Fuad Mamun Sinha\n"
     ]
    }
   ],
   "source": [
    "from glob import glob\n",
    "folders = glob('Datasets/Train/*')\n",
    "l=[]\n",
    "for row in folders:\n",
    "    x=row.split(\"\\\\\")\n",
    "    l.append(x[1])\n",
    "print(l[0],l[1],l[2])\n"
   ]
  }
 ],
 "metadata": {
  "kernelspec": {
   "display_name": "Python 3",
   "language": "python",
   "name": "python3"
  },
  "language_info": {
   "codemirror_mode": {
    "name": "ipython",
    "version": 3
   },
   "file_extension": ".py",
   "mimetype": "text/x-python",
   "name": "python",
   "nbconvert_exporter": "python",
   "pygments_lexer": "ipython3",
   "version": "3.8.8"
  }
 },
 "nbformat": 4,
 "nbformat_minor": 5
}
